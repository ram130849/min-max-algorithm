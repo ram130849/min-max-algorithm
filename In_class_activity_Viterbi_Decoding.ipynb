{
  "nbformat": 4,
  "nbformat_minor": 0,
  "metadata": {
    "colab": {
      "provenance": [],
      "collapsed_sections": [],
      "authorship_tag": "ABX9TyPC4lt7XTAjp4nEunG+8ioM",
      "include_colab_link": true
    },
    "kernelspec": {
      "name": "python3",
      "display_name": "Python 3"
    },
    "language_info": {
      "name": "python"
    }
  },
  "cells": [
    {
      "cell_type": "markdown",
      "metadata": {
        "id": "view-in-github",
        "colab_type": "text"
      },
      "source": [
        "<a href=\"https://colab.research.google.com/github/ram130849/min-max-algorithm/blob/main/In_class_activity_Viterbi_Decoding.ipynb\" target=\"_parent\"><img src=\"https://colab.research.google.com/assets/colab-badge.svg\" alt=\"Open In Colab\"/></a>"
      ]
    },
    {
      "cell_type": "code",
      "execution_count": 21,
      "metadata": {
        "colab": {
          "base_uri": "https://localhost:8080/"
        },
        "id": "lk5fltkkTAl7",
        "outputId": "b94ae4b1-01df-4c3a-de64-674f6738c2cd"
      },
      "outputs": [
        {
          "output_type": "stream",
          "name": "stdout",
          "text": [
            "                       Observed sequence: ['Y', 'N', 'Y', 'Y', 'Y', 'Y', 'N'] \n",
            "    Most likely sequence by brute force:: ['R', 'R', 'R', 'R', 'R', 'R', 'S']\n",
            "        Most likely sequence by Viterbi:: ['R', 'R', 'R', 'R', 'R', 'R', 'S']\n"
          ]
        }
      ],
      "source": [
        "import copy\n",
        "# problem definition\n",
        "states = (\"R\", \"S\")\n",
        "\n",
        "trans = {\"R\" : {\"R\": 0.65, \"S\": 0.35},\n",
        "         \"S\" : {\"R\" : 0.25, \"S\": 0.75}}\n",
        "\n",
        "emission = {\"R\": {\"Y\" : 0.8, \"N\" : 0.2},\n",
        "            \"S\" : {\"Y\": 0.2, \"N\": 0.8}}\n",
        "          \n",
        "initial = {\"R\": 0.5, \"S\": 0.5}\n",
        "\n",
        "observed = [\"Y\", \"N\", \"Y\", \"Y\", \"Y\", \"Y\", \"N\"]\n",
        "print(\"%40s: %s \" % (\"Observed sequence\", str(observed)))\n",
        "N=len(observed)\n",
        "###########################\n",
        "# We can find the most likely state sequence in a brute-force way by just\n",
        "# trying all of them!\n",
        "joint = {}\n",
        "for s0 in states:\n",
        "    for s1 in states:\n",
        "        for s2 in states:\n",
        "            for s3 in states:\n",
        "                for s4 in states:\n",
        "                    for s5 in states:\n",
        "                        for s6 in states:\n",
        "\n",
        "                            seq = str([s0, s1, s2, s3, s4, s5, s6])\n",
        "                            joint[seq] = initial[s0]*trans[s0][s1]*trans[s1][s2]*trans[s2][s3]*trans[s3][s4]*trans[s4][s5]*trans[s5][s6]*\\\n",
        "                            emission[s0][observed[0]]*emission[s1][observed[1]]*emission[s2][observed[2]]*emission[s3][observed[3]]*\\\n",
        "                            emission[s4][observed[4]]*emission[s5][observed[5]]*emission[s6][observed[6]]  # FILL THIS IN by computing P(S0...S6 |O0...O6)\n",
        "                            # Hint: Since P(S0...S6 | O0...O6) = P(S0...S6,O0...O6)/ P(O0...O6),\n",
        "                            #   but P(O0...O6) is fixed by the problem and a positive number,\n",
        "                            #   maximizing P(S0...S6,O0...O6) is the same as maximizing P(S0...S6 | O0...O6).\n",
        "                            #   So just compute the joint probability P(S0...S6,O0...O6)  instead\n",
        "print(\"%40s: %s\" % (\"Most likely sequence by brute force:\", str(max(joint, \n",
        "key=joint.get))))\n",
        "#############################\n",
        "# obviously that's a big mess, and slow -- each every day requires another nested loop and 2x the computation time.\n",
        "# so instead, compute using Viterbi!\n",
        "# Viterbi table will have two rows and N columns \n",
        "V_table = {\"R\": [0] * N, \"S\" : [0] * N}\n",
        "prev = {\"R\":[None]*N,\"S\":[None]*N}\n",
        "for s in states:\n",
        "    V_table[s][0] = initial[s]*emission[s][observed[0]]\n",
        "\n",
        "\n",
        "for i in range(1,N):\n",
        "    for s in states:\n",
        "        viterbi_val = trans[states[0]][s]*V_table[states[0]][i-1]\n",
        "        state = states[0]\n",
        "        for s1 in states[1:]:\n",
        "            temp = viterbi_val\n",
        "            viterbi_val = max(viterbi_val,trans[s1][s]*V_table[s1][i-1])\n",
        "            if(temp!=viterbi_val):\n",
        "                state = s1\n",
        "        V_table[s][i] = viterbi_val*emission[s][observed[i]]\n",
        "        prev[s][i] = state\n",
        "\n",
        "viterbi_seq = []\n",
        "prev_state = None\n",
        "\n",
        "if V_table[\"R\"][N-1]>V_table[\"S\"][N-1]:\n",
        "    viterbi_seq.append(\"R\")\n",
        "    prev_state = \"R\"\n",
        "else:\n",
        "    viterbi_seq.append(\"S\")\n",
        "    prev_state = \"S\"\n",
        "\n",
        "for i in range(N - 1, 0, -1):\n",
        "    viterbi_seq.insert(0, prev[prev_state][i])\n",
        "    prev_state = prev[prev_state][i]\n",
        "\n",
        "\n",
        "# Here you'll have a loop to build up the viterbi table, left to right\n",
        "# Here you'll have a loop that backtracks to find the most likely state sequence\n",
        "# remove this and put your answer in here instead\n",
        "print(\"%40s: %s\" % (\"Most likely sequence by Viterbi:\", str(viterbi_seq)))\n"
      ]
    },
    {
      "cell_type": "code",
      "source": [],
      "metadata": {
        "id": "reA1K8_hTHdw"
      },
      "execution_count": null,
      "outputs": []
    },
    {
      "cell_type": "code",
      "source": [],
      "metadata": {
        "id": "RXE7yb_gTHiw"
      },
      "execution_count": null,
      "outputs": []
    },
    {
      "cell_type": "code",
      "source": [],
      "metadata": {
        "id": "5pd3VvnsTHoT"
      },
      "execution_count": null,
      "outputs": []
    },
    {
      "cell_type": "code",
      "source": [],
      "metadata": {
        "id": "mqDqSLadTHtP"
      },
      "execution_count": null,
      "outputs": []
    },
    {
      "cell_type": "code",
      "source": [],
      "metadata": {
        "id": "CUbXSsuaTHw3"
      },
      "execution_count": null,
      "outputs": []
    },
    {
      "cell_type": "code",
      "source": [],
      "metadata": {
        "id": "o78cXXU_TH0d"
      },
      "execution_count": null,
      "outputs": []
    },
    {
      "cell_type": "code",
      "source": [],
      "metadata": {
        "id": "luIQb5iMTH39"
      },
      "execution_count": null,
      "outputs": []
    },
    {
      "cell_type": "code",
      "source": [],
      "metadata": {
        "id": "FgJI1FnDTH7c"
      },
      "execution_count": null,
      "outputs": []
    },
    {
      "cell_type": "code",
      "source": [],
      "metadata": {
        "id": "UUF2UaA3TH-w"
      },
      "execution_count": null,
      "outputs": []
    },
    {
      "cell_type": "code",
      "source": [],
      "metadata": {
        "id": "nYrspvXWTICY"
      },
      "execution_count": null,
      "outputs": []
    },
    {
      "cell_type": "code",
      "source": [],
      "metadata": {
        "id": "LXPAs_R2TIF9"
      },
      "execution_count": null,
      "outputs": []
    }
  ]
}